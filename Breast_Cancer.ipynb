{
 "cells": [
  {
   "cell_type": "markdown",
   "metadata": {},
   "source": [
    "## Breast Cancer Data\n",
    "\n",
    "This dataset is originally from the UCI Machine Learning Repository on Breast Cancer. The objective of the dataset is to diagnostically predict whether or not a patient has Breast Cancer, based on certain diagnostic measurements included in the dataset. Several constraints were placed on the selection of these instances from a larger database.\n",
    "\n",
    "## Introduction\n",
    "\n",
    "Breast cancer is a disease in which abnormal breast cells grow out of control and form tumours. If left unchecked, the tumours can spread throughout the body and become fatal.\n",
    "\n",
    "Breast cancer cells begin inside the milk ducts and/or the milk-producing lobules of the breast. The earliest form (in situ) is not life-threatening. Cancer cells can spread into nearby breast tissue (invasion). This creates tumours that cause lumps or thickening.\n",
    "\n",
    "Invasive cancers can spread to nearby lymph nodes or other organs (metastasize). Metastasis can be fatal.\n",
    "\n",
    "Treatment is based on the person, the type of cancer and its spread. Treatment combines surgery, radiation therapy and medications.\n",
    "\n",
    "This data set includes 201 instances of one class and 85 instances of another class.  The instances are described by 9 attributes, some of which are linear and some are nominal.\n",
    "\n",
    "1. Age\n",
    "2. Menopause\n",
    "3. inv-nodes\n",
    "4. node-caps\n",
    "5. deg-malig\n",
    "6. breast\n",
    "7. breast-quad\n",
    "8. irradiat\n",
    "9. Outcome (no-recurrence-events, recurrence-events)"
   ]
  },
  {
   "cell_type": "code",
   "execution_count": 1,
   "metadata": {},
   "outputs": [],
   "source": [
    "# Import librabies\n",
    "import numpy as np\n",
    "import pandas as pd\n",
    "import warnings\n",
    "warnings.filterwarnings(\"ignore\")\n",
    "pd.set_option(\"display.max_columns\",None)"
   ]
  },
  {
   "cell_type": "code",
   "execution_count": 2,
   "metadata": {},
   "outputs": [],
   "source": [
    "# Read the File\n",
    "data = pd.read_csv('breast-cancer.data', header=None, delimiter=' *, *')"
   ]
  },
  {
   "cell_type": "code",
   "execution_count": 3,
   "metadata": {},
   "outputs": [
    {
     "data": {
      "text/html": [
       "<div>\n",
       "<style scoped>\n",
       "    .dataframe tbody tr th:only-of-type {\n",
       "        vertical-align: middle;\n",
       "    }\n",
       "\n",
       "    .dataframe tbody tr th {\n",
       "        vertical-align: top;\n",
       "    }\n",
       "\n",
       "    .dataframe thead th {\n",
       "        text-align: right;\n",
       "    }\n",
       "</style>\n",
       "<table border=\"1\" class=\"dataframe\">\n",
       "  <thead>\n",
       "    <tr style=\"text-align: right;\">\n",
       "      <th></th>\n",
       "      <th>0</th>\n",
       "      <th>1</th>\n",
       "      <th>2</th>\n",
       "      <th>3</th>\n",
       "      <th>4</th>\n",
       "      <th>5</th>\n",
       "      <th>6</th>\n",
       "      <th>7</th>\n",
       "      <th>8</th>\n",
       "      <th>9</th>\n",
       "    </tr>\n",
       "  </thead>\n",
       "  <tbody>\n",
       "    <tr>\n",
       "      <th>0</th>\n",
       "      <td>no-recurrence-events</td>\n",
       "      <td>30-39</td>\n",
       "      <td>premeno</td>\n",
       "      <td>30-34</td>\n",
       "      <td>0-2</td>\n",
       "      <td>no</td>\n",
       "      <td>3</td>\n",
       "      <td>left</td>\n",
       "      <td>left_low</td>\n",
       "      <td>no</td>\n",
       "    </tr>\n",
       "    <tr>\n",
       "      <th>1</th>\n",
       "      <td>no-recurrence-events</td>\n",
       "      <td>40-49</td>\n",
       "      <td>premeno</td>\n",
       "      <td>20-24</td>\n",
       "      <td>0-2</td>\n",
       "      <td>no</td>\n",
       "      <td>2</td>\n",
       "      <td>right</td>\n",
       "      <td>right_up</td>\n",
       "      <td>no</td>\n",
       "    </tr>\n",
       "    <tr>\n",
       "      <th>2</th>\n",
       "      <td>no-recurrence-events</td>\n",
       "      <td>40-49</td>\n",
       "      <td>premeno</td>\n",
       "      <td>20-24</td>\n",
       "      <td>0-2</td>\n",
       "      <td>no</td>\n",
       "      <td>2</td>\n",
       "      <td>left</td>\n",
       "      <td>left_low</td>\n",
       "      <td>no</td>\n",
       "    </tr>\n",
       "    <tr>\n",
       "      <th>3</th>\n",
       "      <td>no-recurrence-events</td>\n",
       "      <td>60-69</td>\n",
       "      <td>ge40</td>\n",
       "      <td>15-19</td>\n",
       "      <td>0-2</td>\n",
       "      <td>no</td>\n",
       "      <td>2</td>\n",
       "      <td>right</td>\n",
       "      <td>left_up</td>\n",
       "      <td>no</td>\n",
       "    </tr>\n",
       "    <tr>\n",
       "      <th>4</th>\n",
       "      <td>no-recurrence-events</td>\n",
       "      <td>40-49</td>\n",
       "      <td>premeno</td>\n",
       "      <td>0-4</td>\n",
       "      <td>0-2</td>\n",
       "      <td>no</td>\n",
       "      <td>2</td>\n",
       "      <td>right</td>\n",
       "      <td>right_low</td>\n",
       "      <td>no</td>\n",
       "    </tr>\n",
       "  </tbody>\n",
       "</table>\n",
       "</div>"
      ],
      "text/plain": [
       "                      0      1        2      3    4   5  6      7          8  \\\n",
       "0  no-recurrence-events  30-39  premeno  30-34  0-2  no  3   left   left_low   \n",
       "1  no-recurrence-events  40-49  premeno  20-24  0-2  no  2  right   right_up   \n",
       "2  no-recurrence-events  40-49  premeno  20-24  0-2  no  2   left   left_low   \n",
       "3  no-recurrence-events  60-69     ge40  15-19  0-2  no  2  right    left_up   \n",
       "4  no-recurrence-events  40-49  premeno    0-4  0-2  no  2  right  right_low   \n",
       "\n",
       "    9  \n",
       "0  no  \n",
       "1  no  \n",
       "2  no  \n",
       "3  no  \n",
       "4  no  "
      ]
     },
     "execution_count": 3,
     "metadata": {},
     "output_type": "execute_result"
    }
   ],
   "source": [
    "data.head()"
   ]
  },
  {
   "cell_type": "code",
   "execution_count": 4,
   "metadata": {},
   "outputs": [
    {
     "data": {
      "text/plain": [
       "(286, 10)"
      ]
     },
     "execution_count": 4,
     "metadata": {},
     "output_type": "execute_result"
    }
   ],
   "source": [
    "# Checking for Number of Rows and Column\n",
    "data.shape"
   ]
  },
  {
   "cell_type": "code",
   "execution_count": 5,
   "metadata": {},
   "outputs": [
    {
     "data": {
      "text/html": [
       "<div>\n",
       "<style scoped>\n",
       "    .dataframe tbody tr th:only-of-type {\n",
       "        vertical-align: middle;\n",
       "    }\n",
       "\n",
       "    .dataframe tbody tr th {\n",
       "        vertical-align: top;\n",
       "    }\n",
       "\n",
       "    .dataframe thead th {\n",
       "        text-align: right;\n",
       "    }\n",
       "</style>\n",
       "<table border=\"1\" class=\"dataframe\">\n",
       "  <thead>\n",
       "    <tr style=\"text-align: right;\">\n",
       "      <th></th>\n",
       "      <th>Class</th>\n",
       "      <th>age</th>\n",
       "      <th>menopause</th>\n",
       "      <th>tumor</th>\n",
       "      <th>inv-nodes</th>\n",
       "      <th>node-caps</th>\n",
       "      <th>deg-malig</th>\n",
       "      <th>breast</th>\n",
       "      <th>breast-quad</th>\n",
       "      <th>irradiat</th>\n",
       "    </tr>\n",
       "  </thead>\n",
       "  <tbody>\n",
       "    <tr>\n",
       "      <th>0</th>\n",
       "      <td>no-recurrence-events</td>\n",
       "      <td>30-39</td>\n",
       "      <td>premeno</td>\n",
       "      <td>30-34</td>\n",
       "      <td>0-2</td>\n",
       "      <td>no</td>\n",
       "      <td>3</td>\n",
       "      <td>left</td>\n",
       "      <td>left_low</td>\n",
       "      <td>no</td>\n",
       "    </tr>\n",
       "    <tr>\n",
       "      <th>1</th>\n",
       "      <td>no-recurrence-events</td>\n",
       "      <td>40-49</td>\n",
       "      <td>premeno</td>\n",
       "      <td>20-24</td>\n",
       "      <td>0-2</td>\n",
       "      <td>no</td>\n",
       "      <td>2</td>\n",
       "      <td>right</td>\n",
       "      <td>right_up</td>\n",
       "      <td>no</td>\n",
       "    </tr>\n",
       "    <tr>\n",
       "      <th>2</th>\n",
       "      <td>no-recurrence-events</td>\n",
       "      <td>40-49</td>\n",
       "      <td>premeno</td>\n",
       "      <td>20-24</td>\n",
       "      <td>0-2</td>\n",
       "      <td>no</td>\n",
       "      <td>2</td>\n",
       "      <td>left</td>\n",
       "      <td>left_low</td>\n",
       "      <td>no</td>\n",
       "    </tr>\n",
       "    <tr>\n",
       "      <th>3</th>\n",
       "      <td>no-recurrence-events</td>\n",
       "      <td>60-69</td>\n",
       "      <td>ge40</td>\n",
       "      <td>15-19</td>\n",
       "      <td>0-2</td>\n",
       "      <td>no</td>\n",
       "      <td>2</td>\n",
       "      <td>right</td>\n",
       "      <td>left_up</td>\n",
       "      <td>no</td>\n",
       "    </tr>\n",
       "    <tr>\n",
       "      <th>4</th>\n",
       "      <td>no-recurrence-events</td>\n",
       "      <td>40-49</td>\n",
       "      <td>premeno</td>\n",
       "      <td>0-4</td>\n",
       "      <td>0-2</td>\n",
       "      <td>no</td>\n",
       "      <td>2</td>\n",
       "      <td>right</td>\n",
       "      <td>right_low</td>\n",
       "      <td>no</td>\n",
       "    </tr>\n",
       "  </tbody>\n",
       "</table>\n",
       "</div>"
      ],
      "text/plain": [
       "                  Class    age menopause  tumor inv-nodes node-caps  \\\n",
       "0  no-recurrence-events  30-39   premeno  30-34       0-2        no   \n",
       "1  no-recurrence-events  40-49   premeno  20-24       0-2        no   \n",
       "2  no-recurrence-events  40-49   premeno  20-24       0-2        no   \n",
       "3  no-recurrence-events  60-69      ge40  15-19       0-2        no   \n",
       "4  no-recurrence-events  40-49   premeno    0-4       0-2        no   \n",
       "\n",
       "   deg-malig breast breast-quad irradiat  \n",
       "0          3   left    left_low       no  \n",
       "1          2  right    right_up       no  \n",
       "2          2   left    left_low       no  \n",
       "3          2  right     left_up       no  \n",
       "4          2  right   right_low       no  "
      ]
     },
     "execution_count": 5,
     "metadata": {},
     "output_type": "execute_result"
    }
   ],
   "source": [
    "data.columns = ['Class','age','menopause','tumor',\n",
    "                'inv-nodes','node-caps','deg-malig',\n",
    "                'breast','breast-quad','irradiat']\n",
    " \n",
    "data.head()"
   ]
  },
  {
   "cell_type": "code",
   "execution_count": 6,
   "metadata": {},
   "outputs": [
    {
     "data": {
      "text/html": [
       "<div>\n",
       "<style scoped>\n",
       "    .dataframe tbody tr th:only-of-type {\n",
       "        vertical-align: middle;\n",
       "    }\n",
       "\n",
       "    .dataframe tbody tr th {\n",
       "        vertical-align: top;\n",
       "    }\n",
       "\n",
       "    .dataframe thead th {\n",
       "        text-align: right;\n",
       "    }\n",
       "</style>\n",
       "<table border=\"1\" class=\"dataframe\">\n",
       "  <thead>\n",
       "    <tr style=\"text-align: right;\">\n",
       "      <th></th>\n",
       "      <th>Class</th>\n",
       "      <th>age</th>\n",
       "      <th>menopause</th>\n",
       "      <th>tumor</th>\n",
       "      <th>inv-nodes</th>\n",
       "      <th>node-caps</th>\n",
       "      <th>deg-malig</th>\n",
       "      <th>breast</th>\n",
       "      <th>breast-quad</th>\n",
       "      <th>irradiat</th>\n",
       "    </tr>\n",
       "  </thead>\n",
       "  <tbody>\n",
       "    <tr>\n",
       "      <th>count</th>\n",
       "      <td>286</td>\n",
       "      <td>286</td>\n",
       "      <td>286</td>\n",
       "      <td>286</td>\n",
       "      <td>286</td>\n",
       "      <td>286</td>\n",
       "      <td>286.000000</td>\n",
       "      <td>286</td>\n",
       "      <td>286</td>\n",
       "      <td>286</td>\n",
       "    </tr>\n",
       "    <tr>\n",
       "      <th>unique</th>\n",
       "      <td>2</td>\n",
       "      <td>6</td>\n",
       "      <td>3</td>\n",
       "      <td>11</td>\n",
       "      <td>7</td>\n",
       "      <td>3</td>\n",
       "      <td>NaN</td>\n",
       "      <td>2</td>\n",
       "      <td>6</td>\n",
       "      <td>2</td>\n",
       "    </tr>\n",
       "    <tr>\n",
       "      <th>top</th>\n",
       "      <td>no-recurrence-events</td>\n",
       "      <td>50-59</td>\n",
       "      <td>premeno</td>\n",
       "      <td>30-34</td>\n",
       "      <td>0-2</td>\n",
       "      <td>no</td>\n",
       "      <td>NaN</td>\n",
       "      <td>left</td>\n",
       "      <td>left_low</td>\n",
       "      <td>no</td>\n",
       "    </tr>\n",
       "    <tr>\n",
       "      <th>freq</th>\n",
       "      <td>201</td>\n",
       "      <td>96</td>\n",
       "      <td>150</td>\n",
       "      <td>60</td>\n",
       "      <td>213</td>\n",
       "      <td>222</td>\n",
       "      <td>NaN</td>\n",
       "      <td>152</td>\n",
       "      <td>110</td>\n",
       "      <td>218</td>\n",
       "    </tr>\n",
       "    <tr>\n",
       "      <th>mean</th>\n",
       "      <td>NaN</td>\n",
       "      <td>NaN</td>\n",
       "      <td>NaN</td>\n",
       "      <td>NaN</td>\n",
       "      <td>NaN</td>\n",
       "      <td>NaN</td>\n",
       "      <td>2.048951</td>\n",
       "      <td>NaN</td>\n",
       "      <td>NaN</td>\n",
       "      <td>NaN</td>\n",
       "    </tr>\n",
       "    <tr>\n",
       "      <th>std</th>\n",
       "      <td>NaN</td>\n",
       "      <td>NaN</td>\n",
       "      <td>NaN</td>\n",
       "      <td>NaN</td>\n",
       "      <td>NaN</td>\n",
       "      <td>NaN</td>\n",
       "      <td>0.738217</td>\n",
       "      <td>NaN</td>\n",
       "      <td>NaN</td>\n",
       "      <td>NaN</td>\n",
       "    </tr>\n",
       "    <tr>\n",
       "      <th>min</th>\n",
       "      <td>NaN</td>\n",
       "      <td>NaN</td>\n",
       "      <td>NaN</td>\n",
       "      <td>NaN</td>\n",
       "      <td>NaN</td>\n",
       "      <td>NaN</td>\n",
       "      <td>1.000000</td>\n",
       "      <td>NaN</td>\n",
       "      <td>NaN</td>\n",
       "      <td>NaN</td>\n",
       "    </tr>\n",
       "    <tr>\n",
       "      <th>25%</th>\n",
       "      <td>NaN</td>\n",
       "      <td>NaN</td>\n",
       "      <td>NaN</td>\n",
       "      <td>NaN</td>\n",
       "      <td>NaN</td>\n",
       "      <td>NaN</td>\n",
       "      <td>2.000000</td>\n",
       "      <td>NaN</td>\n",
       "      <td>NaN</td>\n",
       "      <td>NaN</td>\n",
       "    </tr>\n",
       "    <tr>\n",
       "      <th>50%</th>\n",
       "      <td>NaN</td>\n",
       "      <td>NaN</td>\n",
       "      <td>NaN</td>\n",
       "      <td>NaN</td>\n",
       "      <td>NaN</td>\n",
       "      <td>NaN</td>\n",
       "      <td>2.000000</td>\n",
       "      <td>NaN</td>\n",
       "      <td>NaN</td>\n",
       "      <td>NaN</td>\n",
       "    </tr>\n",
       "    <tr>\n",
       "      <th>75%</th>\n",
       "      <td>NaN</td>\n",
       "      <td>NaN</td>\n",
       "      <td>NaN</td>\n",
       "      <td>NaN</td>\n",
       "      <td>NaN</td>\n",
       "      <td>NaN</td>\n",
       "      <td>3.000000</td>\n",
       "      <td>NaN</td>\n",
       "      <td>NaN</td>\n",
       "      <td>NaN</td>\n",
       "    </tr>\n",
       "    <tr>\n",
       "      <th>max</th>\n",
       "      <td>NaN</td>\n",
       "      <td>NaN</td>\n",
       "      <td>NaN</td>\n",
       "      <td>NaN</td>\n",
       "      <td>NaN</td>\n",
       "      <td>NaN</td>\n",
       "      <td>3.000000</td>\n",
       "      <td>NaN</td>\n",
       "      <td>NaN</td>\n",
       "      <td>NaN</td>\n",
       "    </tr>\n",
       "  </tbody>\n",
       "</table>\n",
       "</div>"
      ],
      "text/plain": [
       "                       Class    age menopause  tumor inv-nodes node-caps  \\\n",
       "count                    286    286       286    286       286       286   \n",
       "unique                     2      6         3     11         7         3   \n",
       "top     no-recurrence-events  50-59   premeno  30-34       0-2        no   \n",
       "freq                     201     96       150     60       213       222   \n",
       "mean                     NaN    NaN       NaN    NaN       NaN       NaN   \n",
       "std                      NaN    NaN       NaN    NaN       NaN       NaN   \n",
       "min                      NaN    NaN       NaN    NaN       NaN       NaN   \n",
       "25%                      NaN    NaN       NaN    NaN       NaN       NaN   \n",
       "50%                      NaN    NaN       NaN    NaN       NaN       NaN   \n",
       "75%                      NaN    NaN       NaN    NaN       NaN       NaN   \n",
       "max                      NaN    NaN       NaN    NaN       NaN       NaN   \n",
       "\n",
       "         deg-malig breast breast-quad irradiat  \n",
       "count   286.000000    286         286      286  \n",
       "unique         NaN      2           6        2  \n",
       "top            NaN   left    left_low       no  \n",
       "freq           NaN    152         110      218  \n",
       "mean      2.048951    NaN         NaN      NaN  \n",
       "std       0.738217    NaN         NaN      NaN  \n",
       "min       1.000000    NaN         NaN      NaN  \n",
       "25%       2.000000    NaN         NaN      NaN  \n",
       "50%       2.000000    NaN         NaN      NaN  \n",
       "75%       3.000000    NaN         NaN      NaN  \n",
       "max       3.000000    NaN         NaN      NaN  "
      ]
     },
     "execution_count": 6,
     "metadata": {},
     "output_type": "execute_result"
    }
   ],
   "source": [
    "# Checking all Values including Null.\n",
    "data.describe(include=\"all\")"
   ]
  },
  {
   "cell_type": "markdown",
   "metadata": {},
   "source": [
    "# Pre-Processing the Data"
   ]
  },
  {
   "cell_type": "code",
   "execution_count": 7,
   "metadata": {},
   "outputs": [],
   "source": [
    "# Creating the Copy of DataFrame\n",
    "data_rev = pd.DataFrame.copy(data)"
   ]
  },
  {
   "cell_type": "code",
   "execution_count": 8,
   "metadata": {},
   "outputs": [
    {
     "data": {
      "text/plain": [
       "14"
      ]
     },
     "execution_count": 8,
     "metadata": {},
     "output_type": "execute_result"
    }
   ],
   "source": [
    "data.duplicated().sum()"
   ]
  },
  {
   "cell_type": "code",
   "execution_count": 9,
   "metadata": {},
   "outputs": [],
   "source": [
    "# Handle the missing value\n",
    "# isnull().sum() --> only detect NAN, NA missing value. Not detect the special character as missing values."
   ]
  },
  {
   "cell_type": "code",
   "execution_count": 10,
   "metadata": {},
   "outputs": [
    {
     "data": {
      "text/plain": [
       "Class          0\n",
       "age            0\n",
       "menopause      0\n",
       "tumor          0\n",
       "inv-nodes      0\n",
       "node-caps      0\n",
       "deg-malig      0\n",
       "breast         0\n",
       "breast-quad    0\n",
       "irradiat       0\n",
       "dtype: int64"
      ]
     },
     "execution_count": 10,
     "metadata": {},
     "output_type": "execute_result"
    }
   ],
   "source": [
    "data_rev.isnull().sum()"
   ]
  },
  {
   "cell_type": "code",
   "execution_count": 11,
   "metadata": {},
   "outputs": [
    {
     "data": {
      "text/plain": [
       "Class          object\n",
       "age            object\n",
       "menopause      object\n",
       "tumor          object\n",
       "inv-nodes      object\n",
       "node-caps      object\n",
       "deg-malig       int64\n",
       "breast         object\n",
       "breast-quad    object\n",
       "irradiat       object\n",
       "dtype: object"
      ]
     },
     "execution_count": 11,
     "metadata": {},
     "output_type": "execute_result"
    }
   ],
   "source": [
    "data_rev.dtypes"
   ]
  },
  {
   "cell_type": "code",
   "execution_count": 12,
   "metadata": {},
   "outputs": [],
   "source": [
    "# int --> not present missing value\n",
    "# object --> missing value is present in the form of spacial characters"
   ]
  },
  {
   "cell_type": "code",
   "execution_count": 13,
   "metadata": {},
   "outputs": [
    {
     "name": "stdout",
     "output_type": "stream",
     "text": [
      "{'Class': array(['no-recurrence-events', 'recurrence-events'], dtype=object)}\n",
      "{'age': array(['30-39', '40-49', '60-69', '50-59', '70-79', '20-29'], dtype=object)}\n",
      "{'menopause': array(['premeno', 'ge40', 'lt40'], dtype=object)}\n",
      "{'tumor': array(['30-34', '20-24', '15-19', '0-4', '25-29', '50-54', '10-14',\n",
      "       '40-44', '35-39', '5-9', '45-49'], dtype=object)}\n",
      "{'inv-nodes': array(['0-2', '6-8', '9-11', '3-5', '15-17', '12-14', '24-26'],\n",
      "      dtype=object)}\n",
      "{'node-caps': array(['no', 'yes', '?'], dtype=object)}\n",
      "{'deg-malig': array([3, 2, 1], dtype=int64)}\n",
      "{'breast': array(['left', 'right'], dtype=object)}\n",
      "{'breast-quad': array(['left_low', 'right_up', 'left_up', 'right_low', 'central', '?'],\n",
      "      dtype=object)}\n",
      "{'irradiat': array(['no', 'yes'], dtype=object)}\n"
     ]
    }
   ],
   "source": [
    "for i in data_rev.columns:\n",
    "    print({i:data_rev[i].unique()})"
   ]
  },
  {
   "cell_type": "code",
   "execution_count": 14,
   "metadata": {},
   "outputs": [],
   "source": [
    "# Replace the ? (special character) with NAN"
   ]
  },
  {
   "cell_type": "code",
   "execution_count": 15,
   "metadata": {},
   "outputs": [],
   "source": [
    "data_rev.replace('?',np.nan,inplace=True)"
   ]
  },
  {
   "cell_type": "code",
   "execution_count": 16,
   "metadata": {},
   "outputs": [
    {
     "data": {
      "text/plain": [
       "Class          0\n",
       "age            0\n",
       "menopause      0\n",
       "tumor          0\n",
       "inv-nodes      0\n",
       "node-caps      8\n",
       "deg-malig      0\n",
       "breast         0\n",
       "breast-quad    1\n",
       "irradiat       0\n",
       "dtype: int64"
      ]
     },
     "execution_count": 16,
     "metadata": {},
     "output_type": "execute_result"
    }
   ],
   "source": [
    "data_rev.isnull().sum()"
   ]
  },
  {
   "cell_type": "code",
   "execution_count": 17,
   "metadata": {},
   "outputs": [],
   "source": [
    "# Since all the three variable are catogerical, we will used Mode approach"
   ]
  },
  {
   "cell_type": "code",
   "execution_count": 18,
   "metadata": {},
   "outputs": [],
   "source": [
    "# replace the missing values with mode approach\n",
    "for value in ['node-caps', 'breast-quad']:\n",
    "    data_rev[value].fillna(data_rev[value].mode()[0],inplace=True)\n",
    "    \n",
    "# The value will go to each variable and it will replace the missing value to unique value of 0 index"
   ]
  },
  {
   "cell_type": "code",
   "execution_count": 19,
   "metadata": {},
   "outputs": [
    {
     "data": {
      "text/plain": [
       "Class          0\n",
       "age            0\n",
       "menopause      0\n",
       "tumor          0\n",
       "inv-nodes      0\n",
       "node-caps      0\n",
       "deg-malig      0\n",
       "breast         0\n",
       "breast-quad    0\n",
       "irradiat       0\n",
       "dtype: int64"
      ]
     },
     "execution_count": 19,
     "metadata": {},
     "output_type": "execute_result"
    }
   ],
   "source": [
    "data_rev.isnull().sum()"
   ]
  },
  {
   "cell_type": "markdown",
   "metadata": {},
   "source": [
    "The above code helped to remove null values using mode because the value was in categorical in nature"
   ]
  },
  {
   "cell_type": "code",
   "execution_count": 20,
   "metadata": {},
   "outputs": [
    {
     "data": {
      "text/plain": [
       "(286, 10)"
      ]
     },
     "execution_count": 20,
     "metadata": {},
     "output_type": "execute_result"
    }
   ],
   "source": [
    "data_rev.shape"
   ]
  },
  {
   "cell_type": "code",
   "execution_count": 21,
   "metadata": {},
   "outputs": [
    {
     "data": {
      "text/plain": [
       "['Class',\n",
       " 'age',\n",
       " 'menopause',\n",
       " 'tumor',\n",
       " 'inv-nodes',\n",
       " 'node-caps',\n",
       " 'breast',\n",
       " 'breast-quad',\n",
       " 'irradiat']"
      ]
     },
     "execution_count": 21,
     "metadata": {},
     "output_type": "execute_result"
    }
   ],
   "source": [
    "colname=[]\n",
    "for x in data_rev.columns:\n",
    "    if data_rev[x].dtype=='object':\n",
    "        colname.append(x)\n",
    "colname"
   ]
  },
  {
   "cell_type": "code",
   "execution_count": 22,
   "metadata": {},
   "outputs": [],
   "source": [
    "# For preprocessing the data\n",
    "from sklearn.preprocessing import LabelEncoder        # import OneHotEncoder()\n",
    " \n",
    "le=LabelEncoder()\n",
    " \n",
    "for x in colname:\n",
    "    data_rev[x]=le.fit_transform(data_rev[x])"
   ]
  },
  {
   "cell_type": "code",
   "execution_count": 23,
   "metadata": {},
   "outputs": [],
   "source": [
    "data_rev=data_rev.iloc[:,[1,2,3,4,5,6,7,8,9,0]]"
   ]
  },
  {
   "cell_type": "code",
   "execution_count": 24,
   "metadata": {},
   "outputs": [
    {
     "data": {
      "text/html": [
       "<div>\n",
       "<style scoped>\n",
       "    .dataframe tbody tr th:only-of-type {\n",
       "        vertical-align: middle;\n",
       "    }\n",
       "\n",
       "    .dataframe tbody tr th {\n",
       "        vertical-align: top;\n",
       "    }\n",
       "\n",
       "    .dataframe thead th {\n",
       "        text-align: right;\n",
       "    }\n",
       "</style>\n",
       "<table border=\"1\" class=\"dataframe\">\n",
       "  <thead>\n",
       "    <tr style=\"text-align: right;\">\n",
       "      <th></th>\n",
       "      <th>age</th>\n",
       "      <th>menopause</th>\n",
       "      <th>tumor</th>\n",
       "      <th>inv-nodes</th>\n",
       "      <th>node-caps</th>\n",
       "      <th>deg-malig</th>\n",
       "      <th>breast</th>\n",
       "      <th>breast-quad</th>\n",
       "      <th>irradiat</th>\n",
       "      <th>Class</th>\n",
       "    </tr>\n",
       "  </thead>\n",
       "  <tbody>\n",
       "    <tr>\n",
       "      <th>0</th>\n",
       "      <td>1</td>\n",
       "      <td>2</td>\n",
       "      <td>5</td>\n",
       "      <td>0</td>\n",
       "      <td>0</td>\n",
       "      <td>3</td>\n",
       "      <td>0</td>\n",
       "      <td>1</td>\n",
       "      <td>0</td>\n",
       "      <td>0</td>\n",
       "    </tr>\n",
       "    <tr>\n",
       "      <th>1</th>\n",
       "      <td>2</td>\n",
       "      <td>2</td>\n",
       "      <td>3</td>\n",
       "      <td>0</td>\n",
       "      <td>0</td>\n",
       "      <td>2</td>\n",
       "      <td>1</td>\n",
       "      <td>4</td>\n",
       "      <td>0</td>\n",
       "      <td>0</td>\n",
       "    </tr>\n",
       "    <tr>\n",
       "      <th>2</th>\n",
       "      <td>2</td>\n",
       "      <td>2</td>\n",
       "      <td>3</td>\n",
       "      <td>0</td>\n",
       "      <td>0</td>\n",
       "      <td>2</td>\n",
       "      <td>0</td>\n",
       "      <td>1</td>\n",
       "      <td>0</td>\n",
       "      <td>0</td>\n",
       "    </tr>\n",
       "    <tr>\n",
       "      <th>3</th>\n",
       "      <td>4</td>\n",
       "      <td>0</td>\n",
       "      <td>2</td>\n",
       "      <td>0</td>\n",
       "      <td>0</td>\n",
       "      <td>2</td>\n",
       "      <td>1</td>\n",
       "      <td>2</td>\n",
       "      <td>0</td>\n",
       "      <td>0</td>\n",
       "    </tr>\n",
       "    <tr>\n",
       "      <th>4</th>\n",
       "      <td>2</td>\n",
       "      <td>2</td>\n",
       "      <td>0</td>\n",
       "      <td>0</td>\n",
       "      <td>0</td>\n",
       "      <td>2</td>\n",
       "      <td>1</td>\n",
       "      <td>3</td>\n",
       "      <td>0</td>\n",
       "      <td>0</td>\n",
       "    </tr>\n",
       "  </tbody>\n",
       "</table>\n",
       "</div>"
      ],
      "text/plain": [
       "   age  menopause  tumor  inv-nodes  node-caps  deg-malig  breast  \\\n",
       "0    1          2      5          0          0          3       0   \n",
       "1    2          2      3          0          0          2       1   \n",
       "2    2          2      3          0          0          2       0   \n",
       "3    4          0      2          0          0          2       1   \n",
       "4    2          2      0          0          0          2       1   \n",
       "\n",
       "   breast-quad  irradiat  Class  \n",
       "0            1         0      0  \n",
       "1            4         0      0  \n",
       "2            1         0      0  \n",
       "3            2         0      0  \n",
       "4            3         0      0  "
      ]
     },
     "execution_count": 24,
     "metadata": {},
     "output_type": "execute_result"
    }
   ],
   "source": [
    "data_rev.head()"
   ]
  },
  {
   "cell_type": "code",
   "execution_count": 25,
   "metadata": {},
   "outputs": [
    {
     "data": {
      "text/plain": [
       "age            int32\n",
       "menopause      int32\n",
       "tumor          int32\n",
       "inv-nodes      int32\n",
       "node-caps      int32\n",
       "deg-malig      int64\n",
       "breast         int32\n",
       "breast-quad    int32\n",
       "irradiat       int32\n",
       "Class          int32\n",
       "dtype: object"
      ]
     },
     "execution_count": 25,
     "metadata": {},
     "output_type": "execute_result"
    }
   ],
   "source": [
    "data_rev.dtypes"
   ]
  },
  {
   "cell_type": "code",
   "execution_count": 26,
   "metadata": {},
   "outputs": [],
   "source": [
    "# Create X and Y\n",
    "X = data_rev.values[:,0:-1]  #--> 0 to -2\n",
    "Y = data_rev.values[:,-1]\n",
    "\n",
    "# .values will return an array whereas .loc will return a df object\n",
    "# arrays are lighter in weigth which indirectly help the model to build faster."
   ]
  },
  {
   "cell_type": "code",
   "execution_count": 27,
   "metadata": {},
   "outputs": [
    {
     "name": "stdout",
     "output_type": "stream",
     "text": [
      "(286, 9)\n",
      "(286,)\n"
     ]
    }
   ],
   "source": [
    "print(X.shape)\n",
    "print(Y.shape)"
   ]
  },
  {
   "cell_type": "code",
   "execution_count": 28,
   "metadata": {},
   "outputs": [],
   "source": [
    "# Before Building the model, Do Scaling because it will improve the model.\n",
    "from sklearn.preprocessing import StandardScaler\n",
    " \n",
    "scaler = StandardScaler()\n",
    " \n",
    "scaler.fit(X)\n",
    "X = scaler.transform(X)"
   ]
  },
  {
   "cell_type": "markdown",
   "metadata": {},
   "source": [
    "# Running a basic model"
   ]
  },
  {
   "cell_type": "code",
   "execution_count": 29,
   "metadata": {},
   "outputs": [],
   "source": [
    "from sklearn.model_selection import train_test_split\n",
    " \n",
    "#Split the data into test and train\n",
    "X_train, X_test, Y_train, Y_test = train_test_split(X, Y, test_size=0.2,  # Default value -> test_size= 0.25\n",
    "                                                    random_state=10)"
   ]
  },
  {
   "cell_type": "code",
   "execution_count": 30,
   "metadata": {},
   "outputs": [
    {
     "name": "stdout",
     "output_type": "stream",
     "text": [
      "(228, 9)\n",
      "(228,)\n",
      "(58, 9)\n",
      "(58,)\n"
     ]
    }
   ],
   "source": [
    "print(X_train.shape)\n",
    "print(Y_train.shape)\n",
    "print(X_test.shape)\n",
    "print(Y_test.shape)"
   ]
  },
  {
   "cell_type": "markdown",
   "metadata": {},
   "source": [
    "# Model using Logistic regression"
   ]
  },
  {
   "cell_type": "code",
   "execution_count": 31,
   "metadata": {},
   "outputs": [
    {
     "name": "stdout",
     "output_type": "stream",
     "text": [
      "[0 0 0 1 1 0 0 1 1 0 0 0 0 0 1 1 0 0 0 0 0 0 1 0 0 0 0 0 1 0 0 0 0 0 0 0 0\n",
      " 0 0 1 0 0 0 0 0 0 1 1 0 0 0 0 0 1 0 0 0 0]\n"
     ]
    }
   ],
   "source": [
    "from sklearn.linear_model import LogisticRegression\n",
    "#create a model object\n",
    "classifier = LogisticRegression()\n",
    "#train the model object\n",
    "classifier.fit(X_train,Y_train)      # fit is the function that is used for training the data\n",
    "\n",
    "Y_pred = classifier.predict(X_test)\n",
    "print(Y_pred)"
   ]
  },
  {
   "cell_type": "code",
   "execution_count": 32,
   "metadata": {},
   "outputs": [
    {
     "name": "stdout",
     "output_type": "stream",
     "text": [
      "[[36  5]\n",
      " [10  7]]\n",
      "Classification report: \n",
      "              precision    recall  f1-score   support\n",
      "\n",
      "           0       0.78      0.88      0.83        41\n",
      "           1       0.58      0.41      0.48        17\n",
      "\n",
      "    accuracy                           0.74        58\n",
      "   macro avg       0.68      0.64      0.66        58\n",
      "weighted avg       0.72      0.74      0.73        58\n",
      "\n",
      "Accuracy of the model:  0.7413793103448276\n"
     ]
    }
   ],
   "source": [
    "from sklearn.metrics import confusion_matrix, accuracy_score, classification_report\n",
    " \n",
    "cfm=confusion_matrix(Y_test,Y_pred)\n",
    "print(cfm)\n",
    " \n",
    "print(\"Classification report: \")\n",
    " \n",
    "print(classification_report(Y_test,Y_pred))\n",
    " \n",
    "acc=accuracy_score(Y_test, Y_pred)\n",
    "print(\"Accuracy of the model: \",acc)"
   ]
  },
  {
   "cell_type": "markdown",
   "metadata": {},
   "source": [
    "## Tunning the Logistic Regression\n",
    "\n",
    "## Adjusting the Threshold"
   ]
  },
  {
   "cell_type": "code",
   "execution_count": 33,
   "metadata": {},
   "outputs": [
    {
     "name": "stdout",
     "output_type": "stream",
     "text": [
      "[[0.84698552 0.15301448]\n",
      " [0.54054138 0.45945862]\n",
      " [0.90912491 0.09087509]\n",
      " [0.26985198 0.73014802]\n",
      " [0.40004512 0.59995488]\n",
      " [0.88476483 0.11523517]\n",
      " [0.93735829 0.06264171]\n",
      " [0.35556159 0.64443841]\n",
      " [0.36764321 0.63235679]\n",
      " [0.86426454 0.13573546]\n",
      " [0.9079807  0.0920193 ]\n",
      " [0.87573519 0.12426481]\n",
      " [0.85299619 0.14700381]\n",
      " [0.88067238 0.11932762]\n",
      " [0.25209489 0.74790511]\n",
      " [0.48179132 0.51820868]\n",
      " [0.52166145 0.47833855]\n",
      " [0.53207216 0.46792784]\n",
      " [0.7257515  0.2742485 ]\n",
      " [0.83487598 0.16512402]\n",
      " [0.76139611 0.23860389]\n",
      " [0.7434792  0.2565208 ]\n",
      " [0.24012395 0.75987605]\n",
      " [0.91775707 0.08224293]\n",
      " [0.77891858 0.22108142]\n",
      " [0.64157927 0.35842073]\n",
      " [0.94351163 0.05648837]\n",
      " [0.76833288 0.23166712]\n",
      " [0.39977181 0.60022819]\n",
      " [0.805799   0.194201  ]\n",
      " [0.91035718 0.08964282]\n",
      " [0.84939799 0.15060201]\n",
      " [0.9147948  0.0852052 ]\n",
      " [0.92025752 0.07974248]\n",
      " [0.61666383 0.38333617]\n",
      " [0.84875543 0.15124457]\n",
      " [0.61448    0.38552   ]\n",
      " [0.8632688  0.1367312 ]\n",
      " [0.91035718 0.08964282]\n",
      " [0.36635359 0.63364641]\n",
      " [0.80385993 0.19614007]\n",
      " [0.73389087 0.26610913]\n",
      " [0.74060659 0.25939341]\n",
      " [0.7686819  0.2313181 ]\n",
      " [0.78975857 0.21024143]\n",
      " [0.81465419 0.18534581]\n",
      " [0.42626974 0.57373026]\n",
      " [0.41578822 0.58421178]\n",
      " [0.58350734 0.41649266]\n",
      " [0.93999398 0.06000602]\n",
      " [0.90265209 0.09734791]\n",
      " [0.75552065 0.24447935]\n",
      " [0.82678148 0.17321852]\n",
      " [0.32313343 0.67686657]\n",
      " [0.61616121 0.38383879]\n",
      " [0.57714888 0.42285112]\n",
      " [0.78422879 0.21577121]\n",
      " [0.7914163  0.2085837 ]]\n"
     ]
    }
   ],
   "source": [
    "# store the predicted probabilities\n",
    "y_pred_prob = classifier.predict_proba(X_test)\n",
    "print(y_pred_prob)"
   ]
  },
  {
   "cell_type": "code",
   "execution_count": 34,
   "metadata": {},
   "outputs": [],
   "source": [
    "y_pred_class=[]\n",
    "for value in y_pred_prob[:,1]:\n",
    "    if value > 0.45:\n",
    "        y_pred_class.append(1)\n",
    "    else:\n",
    "        y_pred_class.append(0)\n",
    "#print(y_pred_class)"
   ]
  },
  {
   "cell_type": "code",
   "execution_count": 35,
   "metadata": {},
   "outputs": [
    {
     "name": "stdout",
     "output_type": "stream",
     "text": [
      "[[35  6]\n",
      " [ 8  9]]\n",
      "Accuracy of the model:  0.7586206896551724\n",
      "              precision    recall  f1-score   support\n",
      "\n",
      "           0       0.81      0.85      0.83        41\n",
      "           1       0.60      0.53      0.56        17\n",
      "\n",
      "    accuracy                           0.76        58\n",
      "   macro avg       0.71      0.69      0.70        58\n",
      "weighted avg       0.75      0.76      0.75        58\n",
      "\n"
     ]
    }
   ],
   "source": [
    "from sklearn.metrics import confusion_matrix,accuracy_score,classification_report\n",
    "cfm=confusion_matrix(Y_test,y_pred_class)\n",
    "print(cfm)\n",
    "acc=accuracy_score(Y_test, y_pred_class)\n",
    "print(\"Accuracy of the model: \",acc)\n",
    "print(classification_report(Y_test, y_pred_class))"
   ]
  },
  {
   "cell_type": "markdown",
   "metadata": {},
   "source": [
    "**Always try to search for optimum threshold where the overall error is minumum and the type 2 error is also lower.**"
   ]
  },
  {
   "cell_type": "code",
   "execution_count": 36,
   "metadata": {},
   "outputs": [
    {
     "name": "stdout",
     "output_type": "stream",
     "text": [
      "Errors at threshold  0.4 : 16  , type 2 error : 8  , type 1 error: 8\n",
      "Errors at threshold  0.41000000000000003 : 16  , type 2 error : 8  , type 1 error: 8\n",
      "Errors at threshold  0.42000000000000004 : 15  , type 2 error : 8  , type 1 error: 7\n",
      "Errors at threshold  0.43000000000000005 : 14  , type 2 error : 8  , type 1 error: 6\n",
      "Errors at threshold  0.44000000000000006 : 14  , type 2 error : 8  , type 1 error: 6\n",
      "Errors at threshold  0.45000000000000007 : 14  , type 2 error : 8  , type 1 error: 6\n",
      "Errors at threshold  0.4600000000000001 : 15  , type 2 error : 9  , type 1 error: 6\n",
      "Errors at threshold  0.4700000000000001 : 14  , type 2 error : 9  , type 1 error: 5\n",
      "Errors at threshold  0.4800000000000001 : 15  , type 2 error : 10  , type 1 error: 5\n",
      "Errors at threshold  0.4900000000000001 : 15  , type 2 error : 10  , type 1 error: 5\n",
      "Errors at threshold  0.5000000000000001 : 15  , type 2 error : 10  , type 1 error: 5\n",
      "Errors at threshold  0.5100000000000001 : 15  , type 2 error : 10  , type 1 error: 5\n",
      "Errors at threshold  0.5200000000000001 : 16  , type 2 error : 11  , type 1 error: 5\n",
      "Errors at threshold  0.5300000000000001 : 16  , type 2 error : 11  , type 1 error: 5\n",
      "Errors at threshold  0.5400000000000001 : 16  , type 2 error : 11  , type 1 error: 5\n",
      "Errors at threshold  0.5500000000000002 : 16  , type 2 error : 11  , type 1 error: 5\n",
      "Errors at threshold  0.5600000000000002 : 16  , type 2 error : 11  , type 1 error: 5\n",
      "Errors at threshold  0.5700000000000002 : 16  , type 2 error : 11  , type 1 error: 5\n",
      "Errors at threshold  0.5800000000000002 : 17  , type 2 error : 12  , type 1 error: 5\n",
      "Errors at threshold  0.5900000000000002 : 16  , type 2 error : 12  , type 1 error: 4\n",
      "Errors at threshold  0.6000000000000002 : 17  , type 2 error : 13  , type 1 error: 4\n"
     ]
    }
   ],
   "source": [
    "# Trial and Error Approch --> decide you to take the best threshold value with the lowest Type 2 Error\n",
    "for a in np.arange(0.4,0.61,0.01):\n",
    "    predict_mine = np.where(y_pred_prob[:,1] > a, 1, 0) # acts as an if else statement\n",
    "    cfm=confusion_matrix(Y_test, predict_mine)\n",
    "    total_err=cfm[0,1]+cfm[1,0]  # Addition of Type 1 and Type 2 error\n",
    "    print(\"Errors at threshold \", a, \":\",total_err, \" , type 2 error :\", \n",
    "          cfm[1,0],\" , type 1 error:\", cfm[0,1])"
   ]
  },
  {
   "cell_type": "markdown",
   "metadata": {},
   "source": [
    "# Model using Decision Tree"
   ]
  },
  {
   "cell_type": "code",
   "execution_count": 37,
   "metadata": {},
   "outputs": [
    {
     "name": "stdout",
     "output_type": "stream",
     "text": [
      "[(0, 0), (1, 1), (0, 0), (0, 0), (1, 0), (0, 1), (0, 0), (0, 1), (0, 1), (1, 0), (0, 0), (0, 0), (0, 1), (0, 0), (1, 1), (1, 0), (1, 0), (0, 0), (0, 1), (0, 0), (0, 0), (0, 0), (1, 1), (0, 0), (0, 1), (0, 1), (0, 0), (0, 0), (1, 1), (0, 1), (0, 0), (0, 0), (0, 0), (0, 0), (0, 1), (1, 0), (0, 0), (0, 0), (1, 0), (0, 0), (0, 0), (0, 0), (0, 0), (0, 0), (0, 1), (1, 0), (1, 0), (0, 1), (0, 0), (0, 0), (0, 0), (1, 0), (0, 0), (1, 0), (1, 1), (0, 1), (1, 0), (1, 1)]\n"
     ]
    }
   ],
   "source": [
    "# predicting using Decision Tree Classifier.\n",
    "from sklearn.tree import DecisionTreeClassifier\n",
    "\n",
    "model_DT = DecisionTreeClassifier(random_state=10,\n",
    "                                   criterion=\"gini\")\n",
    "\n",
    "# fit the model on data and predict the values\n",
    "model_DT.fit(X_train,Y_train)      # fit is the function that is used for training the data\n",
    "Y_pred = model_DT.predict(X_test) # Validation Data\n",
    "#print(Y_pred)\n",
    "print(list(zip(Y_test,Y_pred)))"
   ]
  },
  {
   "cell_type": "code",
   "execution_count": 38,
   "metadata": {},
   "outputs": [
    {
     "name": "stdout",
     "output_type": "stream",
     "text": [
      "[[29 12]\n",
      " [11  6]]\n",
      "Classification report: \n",
      "              precision    recall  f1-score   support\n",
      "\n",
      "           0       0.72      0.71      0.72        41\n",
      "           1       0.33      0.35      0.34        17\n",
      "\n",
      "    accuracy                           0.60        58\n",
      "   macro avg       0.53      0.53      0.53        58\n",
      "weighted avg       0.61      0.60      0.61        58\n",
      "\n",
      "Accuracy of the model:  0.603448275862069\n"
     ]
    }
   ],
   "source": [
    "from sklearn.metrics import confusion_matrix, accuracy_score, classification_report\n",
    " \n",
    "cfm=confusion_matrix(Y_test,Y_pred)\n",
    "print(cfm)\n",
    " \n",
    "print(\"Classification report: \")\n",
    " \n",
    "print(classification_report(Y_test,Y_pred))\n",
    " \n",
    "acc=accuracy_score(Y_test, Y_pred)\n",
    "print(\"Accuracy of the model: \",acc)"
   ]
  },
  {
   "cell_type": "markdown",
   "metadata": {},
   "source": [
    "## Tuned Decision Tree Model"
   ]
  },
  {
   "cell_type": "code",
   "execution_count": 39,
   "metadata": {},
   "outputs": [
    {
     "name": "stdout",
     "output_type": "stream",
     "text": [
      "[(0, 0), (1, 0), (0, 0), (0, 0), (1, 1), (0, 1), (0, 0), (0, 1), (0, 1), (1, 0), (0, 0), (0, 0), (0, 0), (0, 0), (1, 0), (1, 0), (1, 0), (0, 0), (0, 1), (0, 0), (0, 0), (0, 0), (1, 0), (0, 0), (0, 1), (0, 0), (0, 0), (0, 0), (1, 1), (0, 1), (0, 0), (0, 0), (0, 0), (0, 0), (0, 1), (1, 0), (0, 0), (0, 0), (1, 0), (0, 1), (0, 0), (0, 1), (0, 0), (0, 0), (0, 1), (1, 0), (1, 0), (0, 0), (0, 1), (0, 0), (0, 0), (1, 0), (0, 0), (1, 0), (1, 0), (0, 0), (1, 0), (1, 1)]\n"
     ]
    }
   ],
   "source": [
    "# predicting using Decision Tree Classifier.\n",
    "from sklearn.tree import DecisionTreeClassifier\n",
    "\n",
    "model_DT = DecisionTreeClassifier(random_state=10,\n",
    "                                   criterion=\"gini\",\n",
    "                                 splitter=\"best\",\n",
    "                                 min_samples_leaf=3,\n",
    "                                 min_samples_split=5,\n",
    "                                 )\n",
    "\n",
    "# hypo-parameter :-   min_samples_leaf, min_samples_split, max_depth, max_features, max_leaf_nodes\n",
    "\n",
    "# fit the model on data and predict the values\n",
    "model_DT.fit(X_train,Y_train)      # fit is the function that is used for training the data\n",
    "Y_pred = model_DT.predict(X_test) # Validation Data\n",
    "#print(Y_pred)\n",
    "print(list(zip(Y_test,Y_pred)))"
   ]
  },
  {
   "cell_type": "code",
   "execution_count": 40,
   "metadata": {},
   "outputs": [
    {
     "name": "stdout",
     "output_type": "stream",
     "text": [
      "[[30 11]\n",
      " [14  3]]\n",
      "Classification report: \n",
      "              precision    recall  f1-score   support\n",
      "\n",
      "           0       0.68      0.73      0.71        41\n",
      "           1       0.21      0.18      0.19        17\n",
      "\n",
      "    accuracy                           0.57        58\n",
      "   macro avg       0.45      0.45      0.45        58\n",
      "weighted avg       0.54      0.57      0.56        58\n",
      "\n",
      "Accuracy of the model:  0.5689655172413793\n"
     ]
    }
   ],
   "source": [
    "from sklearn.metrics import confusion_matrix, accuracy_score, classification_report\n",
    " \n",
    "cfm=confusion_matrix(Y_test,Y_pred)\n",
    "print(cfm)\n",
    " \n",
    "print(\"Classification report: \")\n",
    " \n",
    "print(classification_report(Y_test,Y_pred))\n",
    " \n",
    "acc=accuracy_score(Y_test, Y_pred)\n",
    "print(\"Accuracy of the model: \",acc)"
   ]
  },
  {
   "cell_type": "markdown",
   "metadata": {},
   "source": [
    "# Model using Random Forest"
   ]
  },
  {
   "cell_type": "code",
   "execution_count": 41,
   "metadata": {},
   "outputs": [],
   "source": [
    "#predicting using the Random_Forest_Classifier\n",
    "from sklearn.ensemble import RandomForestClassifier\n",
    " \n",
    "model_RandomForest=RandomForestClassifier(n_estimators=1050,                  # estimator --> Default value -> 100\n",
    "                                          random_state=10, bootstrap=True,   # Bootstrap -> Always will be True --> Vaules will be repeated in each Bag\n",
    "                                         n_jobs=-1)                          # no of jobs --> -1 -> Special value --> To speed up the Process\n",
    " \n",
    "#fit the model on the data and predict the values\n",
    "model_RandomForest.fit(X_train,Y_train)\n",
    " \n",
    "Y_pred=model_RandomForest.predict(X_test)"
   ]
  },
  {
   "cell_type": "code",
   "execution_count": 42,
   "metadata": {},
   "outputs": [
    {
     "name": "stdout",
     "output_type": "stream",
     "text": [
      "[[37  4]\n",
      " [ 9  8]]\n",
      "Classification report: \n",
      "              precision    recall  f1-score   support\n",
      "\n",
      "           0       0.80      0.90      0.85        41\n",
      "           1       0.67      0.47      0.55        17\n",
      "\n",
      "    accuracy                           0.78        58\n",
      "   macro avg       0.74      0.69      0.70        58\n",
      "weighted avg       0.76      0.78      0.76        58\n",
      "\n",
      "Accuracy of the model:  0.7758620689655172\n"
     ]
    }
   ],
   "source": [
    "from sklearn.metrics import confusion_matrix, accuracy_score, classification_report\n",
    " \n",
    "cfm=confusion_matrix(Y_test,Y_pred)\n",
    "print(cfm)\n",
    " \n",
    "print(\"Classification report: \")\n",
    " \n",
    "print(classification_report(Y_test,Y_pred))\n",
    " \n",
    "acc=accuracy_score(Y_test, Y_pred)\n",
    "print(\"Accuracy of the model: \",acc)"
   ]
  },
  {
   "cell_type": "markdown",
   "metadata": {},
   "source": [
    "# Model using Extra_Trees_Classifier"
   ]
  },
  {
   "cell_type": "code",
   "execution_count": 43,
   "metadata": {},
   "outputs": [],
   "source": [
    "#predicting using the Model using Extra_Trees_Classifier\n",
    "from sklearn.ensemble import ExtraTreesClassifier\n",
    " \n",
    "model_EXT=ExtraTreesClassifier(n_estimators=200,                  # estimator --> Default value -> 100 --> Buiding the 100 Trees Parallely. -> how many DT you want to build behing the scene\n",
    "                                          random_state=10, bootstrap=True,   # Bootstrap -> Always will be True --> Vaules will be repeated in each Bag\n",
    "                                         n_jobs=-1)                          # no of jobs --> -1 -> Special value --> To speed up the Process\n",
    " \n",
    "#fit the model on the data and predict the values\n",
    "model_EXT.fit(X_train,Y_train)\n",
    " \n",
    "Y_pred=model_EXT.predict(X_test)"
   ]
  },
  {
   "cell_type": "code",
   "execution_count": 44,
   "metadata": {},
   "outputs": [
    {
     "name": "stdout",
     "output_type": "stream",
     "text": [
      "[[36  5]\n",
      " [10  7]]\n",
      "Classification report: \n",
      "              precision    recall  f1-score   support\n",
      "\n",
      "           0       0.78      0.88      0.83        41\n",
      "           1       0.58      0.41      0.48        17\n",
      "\n",
      "    accuracy                           0.74        58\n",
      "   macro avg       0.68      0.64      0.66        58\n",
      "weighted avg       0.72      0.74      0.73        58\n",
      "\n",
      "Accuracy of the model:  0.7413793103448276\n"
     ]
    }
   ],
   "source": [
    "from sklearn.metrics import confusion_matrix, accuracy_score, classification_report\n",
    " \n",
    "cfm=confusion_matrix(Y_test,Y_pred)\n",
    "print(cfm)\n",
    " \n",
    "print(\"Classification report: \")\n",
    " \n",
    "print(classification_report(Y_test,Y_pred))\n",
    " \n",
    "acc=accuracy_score(Y_test, Y_pred)\n",
    "print(\"Accuracy of the model: \",acc)"
   ]
  },
  {
   "cell_type": "markdown",
   "metadata": {},
   "source": [
    "# Using Multiple Models :- Decision_Tree, SVC, KNeighbors and Logistic Regression"
   ]
  },
  {
   "cell_type": "code",
   "execution_count": 45,
   "metadata": {},
   "outputs": [],
   "source": [
    "from sklearn.tree import DecisionTreeClassifier\n",
    "from sklearn.svm import SVC\n",
    "from sklearn.neighbors import KNeighborsClassifier\n",
    "from sklearn.linear_model import LogisticRegression\n",
    " \n",
    "# first, initialize the classificators\n",
    "tree= DecisionTreeClassifier(random_state=10) # using the random state for reproducibility\n",
    "knn= KNeighborsClassifier(n_neighbors=5,metric='euclidean')\n",
    "svm= SVC(kernel=\"rbf\", gamma=0.1, C=1,random_state=10)    # This is Base SVM\n",
    "logreg=LogisticRegression(multi_class=\"multinomial\",random_state=10)"
   ]
  },
  {
   "cell_type": "code",
   "execution_count": 46,
   "metadata": {},
   "outputs": [],
   "source": [
    "# now, create a list with the objects \n",
    "models= [tree, knn, svm, logreg]"
   ]
  },
  {
   "cell_type": "code",
   "execution_count": 47,
   "metadata": {},
   "outputs": [
    {
     "name": "stdout",
     "output_type": "stream",
     "text": [
      "[[29 12]\n",
      " [11  6]]\n",
      "The accuracy of the  DecisionTreeClassifier  model is  60.3448275862069\n",
      "Classification report:\n",
      "               precision    recall  f1-score   support\n",
      "\n",
      "           0       0.72      0.71      0.72        41\n",
      "           1       0.33      0.35      0.34        17\n",
      "\n",
      "    accuracy                           0.60        58\n",
      "   macro avg       0.53      0.53      0.53        58\n",
      "weighted avg       0.61      0.60      0.61        58\n",
      "\n",
      "\n",
      "\n",
      "[[37  4]\n",
      " [10  7]]\n",
      "The accuracy of the  KNeighborsClassifier  model is  75.86206896551724\n",
      "Classification report:\n",
      "               precision    recall  f1-score   support\n",
      "\n",
      "           0       0.79      0.90      0.84        41\n",
      "           1       0.64      0.41      0.50        17\n",
      "\n",
      "    accuracy                           0.76        58\n",
      "   macro avg       0.71      0.66      0.67        58\n",
      "weighted avg       0.74      0.76      0.74        58\n",
      "\n",
      "\n",
      "\n",
      "[[38  3]\n",
      " [11  6]]\n",
      "The accuracy of the  SVC  model is  75.86206896551724\n",
      "Classification report:\n",
      "               precision    recall  f1-score   support\n",
      "\n",
      "           0       0.78      0.93      0.84        41\n",
      "           1       0.67      0.35      0.46        17\n",
      "\n",
      "    accuracy                           0.76        58\n",
      "   macro avg       0.72      0.64      0.65        58\n",
      "weighted avg       0.74      0.76      0.73        58\n",
      "\n",
      "\n",
      "\n",
      "[[36  5]\n",
      " [10  7]]\n",
      "The accuracy of the  LogisticRegression  model is  74.13793103448276\n",
      "Classification report:\n",
      "               precision    recall  f1-score   support\n",
      "\n",
      "           0       0.78      0.88      0.83        41\n",
      "           1       0.58      0.41      0.48        17\n",
      "\n",
      "    accuracy                           0.74        58\n",
      "   macro avg       0.68      0.64      0.66        58\n",
      "weighted avg       0.72      0.74      0.73        58\n",
      "\n",
      "\n",
      "\n"
     ]
    }
   ],
   "source": [
    "from sklearn.metrics import confusion_matrix, accuracy_score,classification_report\n",
    " \n",
    "for model in models:\n",
    "    model.fit(X_train, Y_train) # fit the model\n",
    "    Y_pred= model.predict(X_test) # then predict on the test set\n",
    "    accuracy= accuracy_score(Y_test, Y_pred) \n",
    "    clf_report= classification_report(Y_test, Y_pred) \n",
    "    print(confusion_matrix(Y_test,Y_pred))\n",
    "    print(\"The accuracy of the \",type(model).__name__, \" model is \", accuracy*100 )\n",
    "    print(\"Classification report:\\n\", clf_report)\n",
    "    print(\"\\n\")"
   ]
  },
  {
   "cell_type": "markdown",
   "metadata": {},
   "source": [
    "# Optimization Technique: Implementation of SMOTE"
   ]
  },
  {
   "cell_type": "code",
   "execution_count": 48,
   "metadata": {},
   "outputs": [
    {
     "name": "stdout",
     "output_type": "stream",
     "text": [
      "Before OverSampling, counts of label '1':  68\n",
      "Before OverSampling, counts of label '0':  160\n",
      "After OverSampling, the shape of train_X:  (320, 9)\n",
      "After OverSampling, the shape of train_y:  (320,)\n",
      "After OverSampling, counts of label '1':  160\n",
      "After OverSampling, counts of label '0':  160\n"
     ]
    }
   ],
   "source": [
    "print(\"Before OverSampling, counts of label '1': \", (sum(Y_train == 1)))\n",
    "print(\"Before OverSampling, counts of label '0': \", (sum(Y_train == 0)))\n",
    "  \n",
    "# import SMOTE from imblearn library\n",
    "from imblearn.over_sampling import SMOTE\n",
    "sm = SMOTE(random_state = 10,k_neighbors=5)\n",
    "X_train_res, Y_train_res = sm.fit_resample(X_train, Y_train)\n",
    "  \n",
    "print('After OverSampling, the shape of train_X: ', (X_train_res.shape))\n",
    "print('After OverSampling, the shape of train_y: ', (Y_train_res.shape))\n",
    "  \n",
    "print(\"After OverSampling, counts of label '1': \", (sum(Y_train_res == 1)))\n",
    "print(\"After OverSampling, counts of label '0': \", (sum(Y_train_res == 0)))"
   ]
  },
  {
   "cell_type": "code",
   "execution_count": 49,
   "metadata": {},
   "outputs": [
    {
     "name": "stdout",
     "output_type": "stream",
     "text": [
      "[0 0 0 1 1 0 0 1 1 0 0 0 0 0 1 1 0 0 0 0 0 0 1 0 0 0 0 0 1 0 0 0 0 0 0 0 0\n",
      " 0 0 1 0 0 0 0 0 0 1 1 0 0 0 0 0 1 0 0 0 0]\n"
     ]
    }
   ],
   "source": [
    "from sklearn.linear_model import LogisticRegression\n",
    "#create a model object\n",
    "classifier = LogisticRegression()\n",
    "#train the model object\n",
    "classifier.fit(X_train,Y_train)      # fit is the function that is used for training the data\n",
    "\n",
    "Y_pred = classifier.predict(X_test)\n",
    "print(Y_pred)"
   ]
  },
  {
   "cell_type": "code",
   "execution_count": 50,
   "metadata": {},
   "outputs": [
    {
     "name": "stdout",
     "output_type": "stream",
     "text": [
      "[[36  5]\n",
      " [10  7]]\n",
      "Classification report: \n",
      "              precision    recall  f1-score   support\n",
      "\n",
      "           0       0.78      0.88      0.83        41\n",
      "           1       0.58      0.41      0.48        17\n",
      "\n",
      "    accuracy                           0.74        58\n",
      "   macro avg       0.68      0.64      0.66        58\n",
      "weighted avg       0.72      0.74      0.73        58\n",
      "\n",
      "Accuracy of the model:  0.7413793103448276\n"
     ]
    }
   ],
   "source": [
    "from sklearn.metrics import confusion_matrix, accuracy_score, classification_report\n",
    " \n",
    "cfm=confusion_matrix(Y_test,Y_pred)\n",
    "print(cfm)\n",
    " \n",
    "print(\"Classification report: \")\n",
    " \n",
    "print(classification_report(Y_test,Y_pred))\n",
    " \n",
    "acc=accuracy_score(Y_test, Y_pred)\n",
    "print(\"Accuracy of the model: \",acc)"
   ]
  },
  {
   "cell_type": "markdown",
   "metadata": {},
   "source": [
    "As we observed that the results before implementation on SMOTE technique were similar to that of the results observed after implementing the SMOTE technique.\n",
    "The recall value doesn't showed any change in its value."
   ]
  },
  {
   "cell_type": "markdown",
   "metadata": {},
   "source": [
    "# Conclusion"
   ]
  },
  {
   "cell_type": "markdown",
   "metadata": {},
   "source": [
    "The tuned logistic regression model exhibits promising performance with an accuracy of 75.86%, indicating robust overall prediction. Notably, the low Type II error rate of 8 underscores its effectiveness in minimizing instances of false negatives, making it a strong choice for applications where identifying positive cases is crucial."
   ]
  }
 ],
 "metadata": {
  "kernelspec": {
   "display_name": "Python 3 (ipykernel)",
   "language": "python",
   "name": "python3"
  },
  "language_info": {
   "codemirror_mode": {
    "name": "ipython",
    "version": 3
   },
   "file_extension": ".py",
   "mimetype": "text/x-python",
   "name": "python",
   "nbconvert_exporter": "python",
   "pygments_lexer": "ipython3",
   "version": "3.11.7"
  }
 },
 "nbformat": 4,
 "nbformat_minor": 4
}
